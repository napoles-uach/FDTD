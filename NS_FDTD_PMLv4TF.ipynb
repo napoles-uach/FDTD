{
  "nbformat": 4,
  "nbformat_minor": 0,
  "metadata": {
    "kernelspec": {
      "display_name": "Python 2",
      "language": "python",
      "name": "python2"
    },
    "language_info": {
      "codemirror_mode": {
        "name": "ipython",
        "version": 2
      },
      "file_extension": ".py",
      "mimetype": "text/x-python",
      "name": "python",
      "nbconvert_exporter": "python",
      "pygments_lexer": "ipython2",
      "version": "2.7.13"
    },
    "colab": {
      "name": "NS_FDTD_PMLv4TF.ipynb",
      "provenance": [],
      "include_colab_link": true
    }
  },
  "cells": [
    {
      "cell_type": "markdown",
      "metadata": {
        "id": "view-in-github",
        "colab_type": "text"
      },
      "source": [
        "<a href=\"https://colab.research.google.com/github/napoles-uach/FDTD/blob/master/NS_FDTD_PMLv4TF.ipynb\" target=\"_parent\"><img src=\"https://colab.research.google.com/assets/colab-badge.svg\" alt=\"Open In Colab\"/></a>"
      ]
    },
    {
      "cell_type": "code",
      "metadata": {
        "id": "TTBw-fB0QqTO"
      },
      "source": [
        "import numpy as np\n",
        "import matplotlib.pyplot as plt\n",
        "import pylab\n",
        "pylab.ion()"
      ],
      "execution_count": null,
      "outputs": []
    },
    {
      "cell_type": "code",
      "metadata": {
        "id": "ZLnkzpylQqTS"
      },
      "source": [
        "def Gaussian(x,t,sigma):\n",
        "    return np.exp(-(x-t)**2/(2*sigma**2))\n",
        "def free(npts):\n",
        "    return np.zeros(npts)\n",
        "def step(npts,v0):\n",
        "    v = free(npts)\n",
        "    v[npts/2:] = v0\n",
        "    return v\n",
        "def barrier(npts,v0,thickness):\n",
        "    v = free(npts)\n",
        "    v[npts/2:npts/2+thickness] = v0\n",
        "    return v\n",
        "def fillax(x,y,*args,**kw):\n",
        "    xx = np.concatenate((x,np.array([x[-1],x[0]],x.dtype)))\n",
        "    yy = np.concatenate((y,np.zeros(2,y.dtype)))\n",
        "    return pylab.fill(xx, yy, *args,**kw)"
      ],
      "execution_count": null,
      "outputs": []
    },
    {
      "cell_type": "code",
      "metadata": {
        "id": "nrD4kIx2QqTV"
      },
      "source": [
        "N    = 1000     #  Number of spatial points.\n",
        "\n",
        "                #  before anything reaches the boundaries.\n",
        "Tp   = 50   "
      ],
      "execution_count": null,
      "outputs": []
    },
    {
      "cell_type": "code",
      "metadata": {
        "id": "gEB2Gk_mQqTY",
        "outputId": "41883002-08cd-4f3c-b1ee-7b57a21ba310"
      },
      "source": [
        "le=80\n",
        "longitud=le*1e-9\n",
        "dx=longitud/N\n",
        "#dx   = 0.05e-9    #  Spatial resolution\n",
        "m    = 9.1e-31    #  Particle mass\n",
        "hbar = 1.054e-34    #  Plank's constant\n",
        "dx"
      ],
      "execution_count": null,
      "outputs": [
        {
          "output_type": "execute_result",
          "data": {
            "text/plain": [
              "8.000000000000001e-11"
            ]
          },
          "metadata": {
            "tags": []
          },
          "execution_count": 4
        }
      ]
    },
    {
      "cell_type": "code",
      "metadata": {
        "id": "Xr5cGxxlQqTc"
      },
      "source": [
        "X    = dx*np.linspace(0,N,N)        #  Spatial axis.\n",
        "eV2J=1.60218e-19"
      ],
      "execution_count": null,
      "outputs": []
    },
    {
      "cell_type": "code",
      "metadata": {
        "id": "t8cagqmwQqTf",
        "outputId": "be67567a-5621-44f7-9d30-20682491f3ba"
      },
      "source": [
        "\n",
        "THCK = 15       # \"Thickness\" of the potential barrier (if appropriate\n",
        "                # V-function is chosen)\n",
        "POTENTIAL = 'step'\n",
        "\n",
        "energy=0.5\n",
        "V0   = 0.0  #  eV\n",
        "lambd=2*np.pi*hbar/np.sqrt(2*m*energy*eV2J)\n",
        "lambd=int(lambd/dx)+1\n",
        "sigma = 0.5*lambd \n",
        "x0 = N/2.0-1*sigma\n",
        "dx\n",
        "lambd*dx*1e10"
      ],
      "execution_count": null,
      "outputs": [
        {
          "output_type": "execute_result",
          "data": {
            "text/plain": [
              "17.6"
            ]
          },
          "metadata": {
            "tags": []
          },
          "execution_count": 6
        }
      ]
    },
    {
      "cell_type": "code",
      "metadata": {
        "id": "SMTdSbJUQqTi",
        "outputId": "22d0fa79-ba06-4a3f-aab1-6f0dd0736b84"
      },
      "source": [
        "if POTENTIAL=='free':\n",
        "    V = free(N)\n",
        "elif POTENTIAL=='step':\n",
        "    V = step(N,V0)\n",
        "elif POTENTIAL=='barrier':\n",
        "    V = barrier(N,V0,THCK)\n",
        "else:\n",
        "    raise ValueError(\"Unrecognized potential type: %s\" % POTENTIAL)\n",
        "\n",
        "Vmax = V.max()\n",
        "plt.plot(V)"
      ],
      "execution_count": null,
      "outputs": [
        {
          "output_type": "execute_result",
          "data": {
            "text/plain": [
              "[<matplotlib.lines.Line2D at 0x117d85710>]"
            ]
          },
          "metadata": {
            "tags": []
          },
          "execution_count": 7
        },
        {
          "output_type": "display_data",
          "data": {
            "image/png": "[encoded data removed]",
            "text/plain": [
              "<matplotlib.figure.Figure at 0x1149f89d0>"
            ]
          },
          "metadata": {
            "tags": []
          }
        }
      ]
    },
    {
      "cell_type": "code",
      "metadata": {
        "id": "117ZXyT9QqTm"
      },
      "source": [
        "dt   = 0.25*(m/hbar)*dx**2# hbar/(2*hbar**2/(m*dx**2)+Vmax)        \n",
        "\n",
        "#c1=1.0/8.0\n",
        "#c2=dt/hbar\n",
        "arg=np.pi/(2*lambd)\n",
        "uns=np.sin( arg**2 )/np.sin( 2*arg )\n",
        "c1=0.5*uns/np.sin(2*arg)\n",
        "c2=2*uns*np.sin(2*arg)/np.abs(energy-V0)\n",
        "c2V  = c2*V\n"
      ],
      "execution_count": null,
      "outputs": []
    },
    {
      "cell_type": "code",
      "metadata": {
        "id": "Olqyd90QQqTo"
      },
      "source": [
        "psi_r = np.zeros((3,N)) #  Real\n",
        "psi_i = np.zeros((3,N)) #  Imaginary\n",
        "psi_p = np.zeros(N,)   # Observable probability (magnitude-squared\n",
        "psi_rl = np.zeros(N,)\n",
        "psi_im = np.zeros(N,)    #  of the complex wave function).\n",
        "#  Temporal indexing constants, used for accessing rows of the wavefunctions.\n",
        "PA = 0                 #  Past\n",
        "PR = 1                 #  Present\n",
        "FU = 2                 #  Future"
      ],
      "execution_count": null,
      "outputs": []
    },
    {
      "cell_type": "code",
      "metadata": {
        "id": "EQk2KB2nQqTq",
        "outputId": "dce15fea-574e-4bb3-8ef9-9692894c13c4"
      },
      "source": [
        "k0=2*np.pi/(lambd)\n",
        "xn = range(1,N)\n",
        "x = X[xn]/dx    #  Normalized position coordinate\n",
        "gg = Gaussian(x,x0,sigma)\n",
        "cx = np.cos(k0*(x-x0))\n",
        "sx = np.sin(k0*(x-x0))\n",
        "psi_rl = cx*gg\n",
        "psi_im = sx*gg\n",
        "#psi_r[PA,xn] = cx*gg\n",
        "#psi_i[PA,xn] = sx*gg\n",
        "# Initial normalization of wavefunctions\n",
        "#   Compute the observable probability.\n",
        "psi_p = psi_rl**2 + psi_im**2\n",
        "#  Normalize the wave functions so that the total probability in the simulation\n",
        "#  is equal to 1.\n",
        "P   =psi_p.sum()                      #  Total probability.\n",
        "nrm = np.sqrt(P)\n",
        "\n",
        "psi_rl /= nrm\n",
        "psi_im /= nrm\n",
        "psi_p = psi_rl**2 + psi_im**2\n",
        "P=psi_p.sum()\n",
        "P"
      ],
      "execution_count": null,
      "outputs": [
        {
          "output_type": "execute_result",
          "data": {
            "text/plain": [
              "1.0"
            ]
          },
          "metadata": {
            "tags": []
          },
          "execution_count": 10
        }
      ]
    },
    {
      "cell_type": "code",
      "metadata": {
        "id": "w0cs6aUlQqTt",
        "outputId": "7786b6eb-eede-4205-aef3-a3a82a1287d0"
      },
      "source": [
        "pylab.figure()\n",
        "#xmin = X.min()\n",
        "#xmax = X.max()\n",
        "#ymax = 1.5*(psi_rl).max()\n",
        "#pylab.axis([xmin,xmax,-ymax,ymax])\n",
        "\n",
        "lineR, = pylab.plot(psi_rl,'b',alpha=0.7,label='Real')\n",
        "lineI, = pylab.plot(psi_im,'r',alpha=0.7,label='Imag')\n",
        "#lineP, = pylab.plot(X,10*psi_p,'k',label='Prob')\n",
        "#pylab.title('Potential height: %.2e' % V0)\n",
        "pylab.legend(loc='lower right')"
      ],
      "execution_count": null,
      "outputs": [
        {
          "output_type": "execute_result",
          "data": {
            "text/plain": [
              "<matplotlib.legend.Legend at 0x117ee4ed0>"
            ]
          },
          "metadata": {
            "tags": []
          },
          "execution_count": 11
        },
        {
          "output_type": "display_data",
          "data": {
            "image/png": "[encoded data removed]",
            "text/plain": [
              "<matplotlib.figure.Figure at 0x117da1490>"
            ]
          },
          "metadata": {
            "tags": []
          }
        }
      ]
    },
    {
      "cell_type": "code",
      "metadata": {
        "id": "qwP49SvUQqTw"
      },
      "source": [
        "IDX1 = range(1,N-1)                            #  psi [ k ]\n",
        "IDX2 = range(2,N)                              #  psi [ k + 1 ]\n",
        "IDX3 = range(0,N-2)"
      ],
      "execution_count": null,
      "outputs": []
    },
    {
      "cell_type": "code",
      "metadata": {
        "id": "Gh_ao8XCQqTy",
        "outputId": "feb58a35-de34-4142-c2b1-6e7c78f87243"
      },
      "source": [
        "gammar=np.ones(N-2,)\n",
        "gammai=np.zeros(N-2,)\n",
        "IDX3[N-3]\n",
        "#gamma_r=1.0\n",
        "#gamma_i=1.0"
      ],
      "execution_count": null,
      "outputs": [
        {
          "output_type": "execute_result",
          "data": {
            "text/plain": [
              "997"
            ]
          },
          "metadata": {
            "tags": []
          },
          "execution_count": 13
        }
      ]
    },
    {
      "cell_type": "code",
      "metadata": {
        "id": "ktY2rf7yQqT1",
        "outputId": "e26ae42c-ef00-40b9-d989-fa7a81bd0b3f"
      },
      "source": [
        "kpml1=100#int((longitud/5.0)/dx)\n",
        "R=(1+1j)/np.sqrt(2)\n",
        "for k in range(kpml1):\n",
        "#    if k<kpml1:\n",
        "    fac=5e-4\n",
        "    sigma=fac*(k-kpml1)**2\n",
        "    gammax=1.0/(1.0+R*sigma)**2\n",
        "    gammar[k]=gammax.real\n",
        "    gammai[k]=gammax.imag\n",
        "    sigma=fac*(k-kpml1)**2\n",
        "    gammax=1.0/(1.0+R*sigma)**2\n",
        "    gammar[N-k-3]=gammax.real\n",
        "    gammai[N-k-3]=gammax.imag\n",
        "#gamma_r=np.ones(N-2,)\n",
        "#gamma_i=np.zeros(N-2,)\n",
        "pylab.plot(X[IDX3],gammar)\n",
        "pylab.plot(X[IDX3],gammai)\n",
        "gammax=0.0"
      ],
      "execution_count": null,
      "outputs": [
        {
          "output_type": "display_data",
          "data": {
            "image/png": "[encoded data removed]",
            "text/plain": [
              "<matplotlib.figure.Figure at 0x117ea4390>"
            ]
          },
          "metadata": {
            "tags": []
          }
        }
      ]
    },
    {
      "cell_type": "code",
      "metadata": {
        "id": "d2tvNYNqQqT4"
      },
      "source": [
        "T=0\n",
        "tt=0\n",
        "ft_r=0.0\n",
        "ft_i=0.0\n",
        "tf=[]\n",
        "psi_t_r=[]\n",
        "psi_t_i=[]"
      ],
      "execution_count": null,
      "outputs": []
    },
    {
      "cell_type": "code",
      "metadata": {
        "id": "H8KtZxV-QqT6",
        "outputId": "6eded55c-f572-40d3-a9b8-911a420156a1"
      },
      "source": [
        "file=open(\"tiempo.txt\",\"a\")\n",
        "\n",
        "import time\n",
        "start_time = time.time()\n",
        "\n",
        "T=T+200\n",
        "\n",
        "for t in range(T+1):\n",
        "    tt=tt+1\n",
        "    for k in range(1,N-2):\n",
        "        deltai=psi_im[k+1]-2.0*psi_im[k]+psi_im[k-1]\n",
        "        deltar=psi_rl[k+1]-2.0*psi_rl[k] + psi_rl[k-1]\n",
        "        psi_rl[k]=psi_rl[k]-c1*(gammar[k]*deltai+gammai[k]*deltar)+c2V[k]*psi_im[k]\n",
        "\n",
        "\n",
        "\n",
        "    for k in range(1,N-2):\n",
        "        deltar=psi_rl[k+1]-2.0*psi_rl[k] + psi_rl[k-1]\n",
        "        deltai=psi_im[k+1]-2.0*psi_im[k]+psi_im[k-1]\n",
        "        psi_im[k]=psi_im[k]+c1*( gammar[k]*deltar-gammai[k]*deltai )- c2V[k]*psi_rl[k]\n",
        "\n",
        "\n",
        "    C=np.cos(energy*T*dt/hbar)\n",
        "    S=np.sin(energy*T*dt/hbar)\n",
        "    ii=int(2*N//3)\n",
        "    psi_t_r.append(psi_rl[ii])\n",
        "    psi_t_i.append(psi_im[ii])\n",
        "    ft_r=ft_r+psi_rl[ii]*C-psi_im[ii]*S\n",
        "    ft_i=ft_i+psi_rl[ii]*S+psi_im[ii]*C\n",
        "    \n",
        "    if(t%100 ==0):\n",
        "        fourier=np.sqrt(ft_r**2+ft_i**2)\n",
        "        file.write('%d %3.4f\\n'  % (tt, fourier))\n",
        "        tf.append(fourier)\n",
        "\n",
        "print(\"--- %s seconds ---\" % (time.time() - start_time))       \n",
        "\n",
        "\n",
        "\n",
        "from pylab import rcParams\n",
        "rcParams['figure.figsize'] = 6, 3\n",
        "pylab.figure()\n",
        "#xmin = X.min()\n",
        "#xmax = X.max()\n",
        "ymax = 1.5*(psi_r[PR]).max()\n",
        "\n",
        "pylab.axis([0,le,-0.24,0.4])\n",
        "\n",
        "time=t*dt*1e15\n",
        "pylab.title('time: %.3f'' fs' %time)\n",
        "\n",
        "\n",
        "#if Vmax !=0 :\n",
        "    # Scaling factor for energies, so they fit in the same plot as the\n",
        "    # wavefunctions\n",
        "Efac = ymax\n",
        "V_1 = V[0:N-1]\n",
        "pm=V[N-kpml1:N-1]\n",
        "pylab.plot(X[0:N-1]*1e9,V_1,'black',lw=2)   #  Potential line.\n",
        "lineR, = pylab.plot(X[0:N-1]*1e9,psi_rl,'-',alpha=1,label='Real',color='black')\n",
        "lineI, = pylab.plot(X[0:N-1]*1e9,psi_im,'--',alpha=1,label='Imag',color='black')\n",
        "fillax(X[N-kpml1:N-1]*1e9,pm, facecolor='black', alpha=0.2,zorder=0)\n",
        "pm2=V[0:kpml1]\n",
        "pm2[0:kpml1]=V0\n",
        "fillax(X[0:kpml1]*1e9,pm2, facecolor='black', alpha=0.2,zorder=0)\n",
        "\n",
        "#pylab.plot(X[150:N-50]*1e9,pm2,'black',lw=2)   #  Potential line.\n",
        "    # Plot the wavefunction energy, in the same scale as the potential\n",
        "    #pylab.axhline(E*Efac,color='g',label='Energy',zorder=1)\n",
        "pylab.legend(loc='lower right')\n",
        "pylab.xlabel('x [nm]',fontsize=15)\n",
        "pylab.annotate('PMLs',xy=(343, 140), xycoords='figure points')\n",
        "pylab.annotate('PMLs',xy=(45, 140), xycoords='figure points')\n",
        "pylab.draw()\n",
        "#pylab.xlim(xmin,xmax)\n",
        "pylab.savefig('wave.pdf', dpi=300,bbox_inches='tight')\n",
        "\n",
        "import os\n",
        "os.system('say \"hecho\"')\n",
        "\n",
        "PE=0.0\n",
        "EC=0.0\n",
        "#lap_r=0.0\n",
        "#lap_i=0.0\n",
        "for k in range(1,N-2):\n",
        "    PE=PE+V[k]*(psi_rl[k]**2+psi_im[k]**2)\n",
        "#    Lap[k]=psi[k+1] - 2*psi[k] + psi[k-1]\n",
        "#    KE[k]=Lap[k]*psic[k]\n",
        "    lap_r=psi_rl[k+1]-2*psi_rl[k]+psi_rl[k-1]\n",
        "    lap_i=psi_im[k+1]-2*psi_im[k]+psi_im[k-1]\n",
        "    EC=EC-(psi_rl[k]*lap_r+psi_im[k]*lap_i)\n",
        "EC=EC*((hbar/dx)**2/(2*m))/eV2J    \n",
        "#kinet=KE.sum().real\n",
        "J2eV=1.0/eV2J\n",
        "#kinet=-J2eV*kinet*(hbar/dx)**2/(2*m)\n",
        "print(\"PE=\",PE,EC,PE+EC)\n",
        "\n",
        "\n",
        "# OK\n",
        "\n",
        "file.close()\n"
      ],
      "execution_count": null,
      "outputs": [
        {
          "output_type": "stream",
          "text": [
            "--- 8.06785202026 seconds ---\n",
            "('PE=', 0.0, 0.00069222216411020973, 0.00069222216411020973)\n"
          ],
          "name": "stdout"
        },
        {
          "output_type": "display_data",
          "data": {
            "image/png": "[encoded data removed]",
            "text/plain": [
              "<matplotlib.figure.Figure at 0x1185d7110>"
            ]
          },
          "metadata": {
            "tags": []
          }
        }
      ]
    },
    {
      "cell_type": "code",
      "metadata": {
        "id": "DypLES6sQqT-"
      },
      "source": [
        ""
      ],
      "execution_count": null,
      "outputs": []
    },
    {
      "cell_type": "code",
      "metadata": {
        "id": "dxReEjY7QqUB"
      },
      "source": [
        ""
      ],
      "execution_count": null,
      "outputs": []
    }
  ]
}