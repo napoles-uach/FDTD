{
  "nbformat": 4,
  "nbformat_minor": 0,
  "metadata": {
    "kernelspec": {
      "display_name": "Python 2",
      "language": "python",
      "name": "python2"
    },
    "language_info": {
      "codemirror_mode": {
        "name": "ipython",
        "version": 2
      },
      "file_extension": ".py",
      "mimetype": "text/x-python",
      "name": "python",
      "nbconvert_exporter": "python",
      "pygments_lexer": "ipython2",
      "version": "2.7.13"
    },
    "colab": {
      "name": "NS_FDTD_PMLv3.ipynb",
      "provenance": [],
      "include_colab_link": true
    }
  },
  "cells": [
    {
      "cell_type": "markdown",
      "metadata": {
        "id": "view-in-github",
        "colab_type": "text"
      },
      "source": [
        "<a href=\"https://colab.research.google.com/github/napoles-uach/FDTD/blob/master/NS_FDTD_PMLv3.ipynb\" target=\"_parent\"><img src=\"https://colab.research.google.com/assets/colab-badge.svg\" alt=\"Open In Colab\"/></a>"
      ]
    },
    {
      "cell_type": "markdown",
      "metadata": {
        "id": "AjDkBRZcQvf2"
      },
      "source": [
        "# Esta versión funciona correctamente. No modificarla."
      ]
    },
    {
      "cell_type": "code",
      "metadata": {
        "id": "G_QT2LUVQvf3"
      },
      "source": [
        "import numpy as np\n",
        "import matplotlib.pyplot as plt\n",
        "import pylab\n",
        "pylab.ion()"
      ],
      "execution_count": null,
      "outputs": []
    },
    {
      "cell_type": "markdown",
      "metadata": {
        "id": "OSpLK7SXQvf6"
      },
      "source": [
        "algo de texto incluyebdi latex $e^{-\\pi \\theta}$"
      ]
    },
    {
      "cell_type": "code",
      "metadata": {
        "id": "fdPgjOYeQvf6"
      },
      "source": [
        "def Gaussian(x,t,sigma):\n",
        "    return np.exp(-(x-t)**2/(2*sigma**2))\n",
        "def free(npts):\n",
        "    return np.zeros(npts)\n",
        "def step(npts,v0):\n",
        "    v = free(npts)\n",
        "    v[npts/2:] = v0\n",
        "    return v\n",
        "def barrier(npts,v0,thickness):\n",
        "    v = free(npts)\n",
        "    v[npts/2:npts/2+thickness] = v0\n",
        "    return v\n",
        "def fillax(x,y,*args,**kw):\n",
        "    xx = np.concatenate((x,np.array([x[-1],x[0]],x.dtype)))\n",
        "    yy = np.concatenate((y,np.zeros(2,y.dtype)))\n",
        "    return pylab.fill(xx, yy, *args,**kw)"
      ],
      "execution_count": null,
      "outputs": []
    },
    {
      "cell_type": "code",
      "metadata": {
        "id": "xDV-oag9Qvf9"
      },
      "source": [
        "N    = 500     #  Number of spatial points.\n",
        "\n",
        "                #  before anything reaches the boundaries.\n",
        "Tp   = 50   "
      ],
      "execution_count": null,
      "outputs": []
    },
    {
      "cell_type": "code",
      "metadata": {
        "id": "IlfWGDVgQvf_",
        "outputId": "8e1d350c-57ce-4132-ffe3-4fcf448af9b4"
      },
      "source": [
        "le=40\n",
        "longitud=le*1e-9\n",
        "dx=longitud/N\n",
        "#dx   = 0.05e-9    #  Spatial resolution\n",
        "m    = 9.1e-31    #  Particle mass\n",
        "hbar = 1.054e-34    #  Plank's constant\n",
        "dx"
      ],
      "execution_count": null,
      "outputs": [
        {
          "output_type": "execute_result",
          "data": {
            "text/plain": [
              "8.000000000000001e-11"
            ]
          },
          "metadata": {
            "tags": []
          },
          "execution_count": 4
        }
      ]
    },
    {
      "cell_type": "code",
      "metadata": {
        "id": "X6q0CKcDQvgD"
      },
      "source": [
        "X    = dx*np.linspace(0,N,N)        #  Spatial axis.\n",
        "eV2J=1.60218e-19"
      ],
      "execution_count": null,
      "outputs": []
    },
    {
      "cell_type": "code",
      "metadata": {
        "id": "EePBjflEQvgG",
        "outputId": "601b7d79-002e-4f42-dfe1-dfffb4b2dace"
      },
      "source": [
        "\n",
        "THCK = 15       # \"Thickness\" of the potential barrier (if appropriate\n",
        "                # V-function is chosen)\n",
        "POTENTIAL = 'step'\n",
        "\n",
        "energy=0.5\n",
        "V0   = 0.1  #  eV\n",
        "lambd=2*np.pi*hbar/np.sqrt(2*m*energy*eV2J)\n",
        "lambd=int(lambd/dx)+1\n",
        "sigma = 0.5*lambd \n",
        "x0 = N/2.0-1*sigma\n",
        "dx\n",
        "lambd*dx*1e10"
      ],
      "execution_count": null,
      "outputs": [
        {
          "output_type": "execute_result",
          "data": {
            "text/plain": [
              "17.6"
            ]
          },
          "metadata": {
            "tags": []
          },
          "execution_count": 8
        }
      ]
    },
    {
      "cell_type": "code",
      "metadata": {
        "id": "e1GQ5E2wQvgI",
        "outputId": "63a418b6-a729-4764-8796-1722fa719fa7"
      },
      "source": [
        "if POTENTIAL=='free':\n",
        "    V = free(N)\n",
        "elif POTENTIAL=='step':\n",
        "    V = step(N,V0)\n",
        "elif POTENTIAL=='barrier':\n",
        "    V = barrier(N,V0,THCK)\n",
        "else:\n",
        "    raise ValueError(\"Unrecognized potential type: %s\" % POTENTIAL)\n",
        "\n",
        "Vmax = V.max()\n",
        "plt.plot(V)"
      ],
      "execution_count": null,
      "outputs": [
        {
          "output_type": "execute_result",
          "data": {
            "text/plain": [
              "[<matplotlib.lines.Line2D at 0x1159ee550>]"
            ]
          },
          "metadata": {
            "tags": []
          },
          "execution_count": 7
        },
        {
          "output_type": "display_data",
          "data": {
            "image/png": "[encoded data removed]",
            "text/plain": [
              "<matplotlib.figure.Figure at 0x1125f7710>"
            ]
          },
          "metadata": {
            "tags": []
          }
        }
      ]
    },
    {
      "cell_type": "code",
      "metadata": {
        "id": "f0W7ZN2jQvgL"
      },
      "source": [
        "dt   = 0.25*(m/hbar)*dx**2# hbar/(2*hbar**2/(m*dx**2)+Vmax)        \n",
        "\n",
        "#c1=1.0/8.0\n",
        "#c2=dt/hbar\n",
        "arg=np.pi/(2*lambd)\n",
        "uns=np.sin( arg**2 )/np.sin( 2*arg )\n",
        "c1=0.5*uns/np.sin(2*arg)\n",
        "c2=2*uns*np.sin(2*arg)/np.abs(energy-V0)\n",
        "c2V  = c2*V\n"
      ],
      "execution_count": null,
      "outputs": []
    },
    {
      "cell_type": "code",
      "metadata": {
        "id": "wXlAT1LBQvgN"
      },
      "source": [
        "psi_r = np.zeros((3,N)) #  Real\n",
        "psi_i = np.zeros((3,N)) #  Imaginary\n",
        "psi_p = np.zeros(N,)   # Observable probability (magnitude-squared\n",
        "psi_rl = np.zeros(N,)\n",
        "psi_im = np.zeros(N,)    #  of the complex wave function).\n",
        "#  Temporal indexing constants, used for accessing rows of the wavefunctions.\n",
        "PA = 0                 #  Past\n",
        "PR = 1                 #  Present\n",
        "FU = 2                 #  Future"
      ],
      "execution_count": null,
      "outputs": []
    },
    {
      "cell_type": "code",
      "metadata": {
        "id": "XYM_SRcQQvgP",
        "outputId": "3ffe29f6-c8a2-4728-fb3e-6d9d8a674e9c"
      },
      "source": [
        "k0=2*np.pi/(lambd)\n",
        "xn = range(1,N)\n",
        "x = X[xn]/dx    #  Normalized position coordinate\n",
        "gg = Gaussian(x,x0,sigma)\n",
        "cx = np.cos(k0*(x-x0))\n",
        "sx = np.sin(k0*(x-x0))\n",
        "psi_rl = cx*gg\n",
        "psi_im = sx*gg\n",
        "#psi_r[PA,xn] = cx*gg\n",
        "#psi_i[PA,xn] = sx*gg\n",
        "# Initial normalization of wavefunctions\n",
        "#   Compute the observable probability.\n",
        "psi_p = psi_rl**2 + psi_im**2\n",
        "#  Normalize the wave functions so that the total probability in the simulation\n",
        "#  is equal to 1.\n",
        "P   =psi_p.sum()                      #  Total probability.\n",
        "nrm = np.sqrt(P)\n",
        "\n",
        "psi_rl /= nrm\n",
        "psi_im /= nrm\n",
        "psi_p = psi_rl**2 + psi_im**2\n",
        "P=psi_p.sum()\n",
        "P"
      ],
      "execution_count": null,
      "outputs": [
        {
          "output_type": "execute_result",
          "data": {
            "text/plain": [
              "1.0"
            ]
          },
          "metadata": {
            "tags": []
          },
          "execution_count": 10
        }
      ]
    },
    {
      "cell_type": "code",
      "metadata": {
        "id": "0znzxsjvQvgR",
        "outputId": "1da6647b-c48c-4137-9908-28afe0eba26f"
      },
      "source": [
        "pylab.figure()\n",
        "#xmin = X.min()\n",
        "#xmax = X.max()\n",
        "#ymax = 1.5*(psi_rl).max()\n",
        "#pylab.axis([xmin,xmax,-ymax,ymax])\n",
        "\n",
        "lineR, = pylab.plot(psi_rl,'b',alpha=0.7,label='Real')\n",
        "lineI, = pylab.plot(psi_im,'r',alpha=0.7,label='Imag')\n",
        "#lineP, = pylab.plot(X,10*psi_p,'k',label='Prob')\n",
        "#pylab.title('Potential height: %.2e' % V0)\n",
        "pylab.legend(loc='lower right')"
      ],
      "execution_count": null,
      "outputs": [
        {
          "output_type": "execute_result",
          "data": {
            "text/plain": [
              "<matplotlib.legend.Legend at 0x115b57490>"
            ]
          },
          "metadata": {
            "tags": []
          },
          "execution_count": 11
        },
        {
          "output_type": "display_data",
          "data": {
            "image/png": "[encoded data removed]",
            "text/plain": [
              "<matplotlib.figure.Figure at 0x115a4bfd0>"
            ]
          },
          "metadata": {
            "tags": []
          }
        }
      ]
    },
    {
      "cell_type": "code",
      "metadata": {
        "id": "qL_5jVJNQvgT"
      },
      "source": [
        "IDX1 = range(1,N-1)                            #  psi [ k ]\n",
        "IDX2 = range(2,N)                              #  psi [ k + 1 ]\n",
        "IDX3 = range(0,N-2)"
      ],
      "execution_count": null,
      "outputs": []
    },
    {
      "cell_type": "code",
      "metadata": {
        "id": "e0wv_biTQvgV",
        "outputId": "ff14f27d-9071-4c27-c320-a8334b77aa99"
      },
      "source": [
        "gammar=np.ones(N-2,)\n",
        "gammai=np.zeros(N-2,)\n",
        "IDX3[N-3]\n",
        "#gamma_r=1.0\n",
        "#gamma_i=1.0"
      ],
      "execution_count": null,
      "outputs": [
        {
          "output_type": "execute_result",
          "data": {
            "text/plain": [
              "497"
            ]
          },
          "metadata": {
            "tags": []
          },
          "execution_count": 13
        }
      ]
    },
    {
      "cell_type": "code",
      "metadata": {
        "id": "mno3JdyUQvgY",
        "outputId": "7baa8c43-ca92-4a65-b06c-8f2659deaf6d"
      },
      "source": [
        "kpml1=int((longitud/20.0)/dx)\n",
        "R=(1+1j)/np.sqrt(2)\n",
        "for k in range(kpml1):\n",
        "#    if k<kpml1:\n",
        "    fac=5e-4\n",
        "    sigma=fac*(k-kpml1)**2\n",
        "    gammax=1.0/(1.0+R*sigma)**2\n",
        "    gammar[k]=gammax.real\n",
        "    gammai[k]=gammax.imag\n",
        "    sigma=fac*(k-kpml1)**2\n",
        "    gammax=1.0/(1.0+R*sigma)**2\n",
        "    gammar[N-k-3]=gammax.real\n",
        "    gammai[N-k-3]=gammax.imag\n",
        "#gamma_r=np.ones(N-2,)\n",
        "#gamma_i=np.zeros(N-2,)\n",
        "pylab.plot(X[IDX3],gammar)\n",
        "pylab.plot(X[IDX3],gammai)\n",
        "gammax=0.0"
      ],
      "execution_count": null,
      "outputs": [
        {
          "output_type": "display_data",
          "data": {
            "image/png": "[encoded data removed]",
            "text/plain": [
              "<matplotlib.figure.Figure at 0x115ba6790>"
            ]
          },
          "metadata": {
            "tags": []
          }
        }
      ]
    },
    {
      "cell_type": "code",
      "metadata": {
        "id": "ao7d5MClQvga"
      },
      "source": [
        "T=0"
      ],
      "execution_count": null,
      "outputs": []
    },
    {
      "cell_type": "code",
      "metadata": {
        "id": "70MXdIF_Qvgc"
      },
      "source": [
        ""
      ],
      "execution_count": null,
      "outputs": []
    },
    {
      "cell_type": "code",
      "metadata": {
        "id": "Eivrtc11Qvge",
        "outputId": "08a621dd-4bd7-4f03-a330-747cc400bf4a"
      },
      "source": [
        "T=T+100\n",
        "\n",
        "for t in range(T+1):\n",
        "    for k in range(1,N-2):\n",
        "        deltai=psi_im[k+1]-2.0*psi_im[k]+psi_im[k-1]\n",
        "        deltar=psi_rl[k+1]-2.0*psi_rl[k] + psi_rl[k-1]\n",
        "        psi_rl[k]=psi_rl[k]-c1*(gammar[k]*deltai+gammai[k]*deltar)+c2V[k]*psi_im[k]\n",
        "\n",
        "\n",
        "\n",
        "    for k in range(1,N-2):\n",
        "        deltar=psi_rl[k+1]-2.0*psi_rl[k] + psi_rl[k-1]\n",
        "        deltai=psi_im[k+1]-2.0*psi_im[k]+psi_im[k-1]\n",
        "        psi_im[k]=psi_im[k]+c1*( gammar[k]*deltar-gammai[k]*deltai )- c2V[k]*psi_rl[k]\n",
        "\n",
        "        \n",
        "\n",
        "#Lap = np.zeros(N,)+1j*np.zeros(N,)\n",
        "#KE = np.zeros(N,)+1j*np.zeros(N,)\n",
        "#psi=psi_rl+1j*psi_im\n",
        "#psic=psi_rl-1j*psi_im\n",
        "#POT2=psi*psic*V\n",
        "#PE=POT2.sum()\n",
        "#Lap[1+2:N-1-2]=psi[2+2:N-2] - 2*psi[1+2:N-1-2] + psi[0+2:N-2-2]\n",
        "#KE[1+2:N-1-2]=Lap[1+2:N-1-2]*psic[1+2:N-1-2]\n",
        "#kinet=KE.sum().real\n",
        "#J2eV=1.0/eV2J\n",
        "#kinet=-J2eV*kinet*(hbar/dx)**2/(2*m)\n",
        "#kinet\n",
        "\n",
        "#mod2Psi=psi_rl[PR]**2+psi_im[PR]**2\n",
        "\n",
        "\n",
        "\n",
        "\n",
        "from pylab import rcParams\n",
        "rcParams['figure.figsize'] = 6, 3\n",
        "pylab.figure()\n",
        "#xmin = X.min()\n",
        "#xmax = X.max()\n",
        "ymax = 1.5*(psi_r[PR]).max()\n",
        "\n",
        "pylab.axis([0,le,-0.24,0.4])\n",
        "\n",
        "time=t*dt*1e15\n",
        "pylab.title('time: %.3f'' fs' %time)\n",
        "\n",
        "\n",
        "#if Vmax !=0 :\n",
        "    # Scaling factor for energies, so they fit in the same plot as the\n",
        "    # wavefunctions\n",
        "Efac = ymax\n",
        "V_1 = V[0:N-1]\n",
        "pm=V[N-kpml1:N-1]\n",
        "pylab.plot(X[0:N-1]*1e9,V_1,'black',lw=2)   #  Potential line.\n",
        "lineR, = pylab.plot(X[0:N-1]*1e9,psi_rl,'-',alpha=1,label='Real',color='black')\n",
        "lineI, = pylab.plot(X[0:N-1]*1e9,psi_im,'--',alpha=1,label='Imag',color='black')\n",
        "fillax(X[N-kpml1:N-1]*1e9,pm, facecolor='black', alpha=0.2,zorder=0)\n",
        "pm2=V[0:kpml1]\n",
        "pm2[0:kpml1]=V0\n",
        "fillax(X[0:kpml1]*1e9,pm2, facecolor='black', alpha=0.2,zorder=0)\n",
        "\n",
        "#pylab.plot(X[150:N-50]*1e9,pm2,'black',lw=2)   #  Potential line.\n",
        "    # Plot the wavefunction energy, in the same scale as the potential\n",
        "    #pylab.axhline(E*Efac,color='g',label='Energy',zorder=1)\n",
        "pylab.legend(loc='lower right')\n",
        "pylab.xlabel('x [nm]',fontsize=15)\n",
        "pylab.annotate('PMLs',xy=(343, 140), xycoords='figure points')\n",
        "pylab.annotate('PMLs',xy=(45, 140), xycoords='figure points')\n",
        "pylab.draw()\n",
        "#pylab.xlim(xmin,xmax)\n",
        "pylab.savefig('wave.pdf', dpi=300,bbox_inches='tight')\n",
        "\n",
        "import os\n",
        "os.system('say \"done\"')\n",
        "\n",
        "PE=0.0\n",
        "EC=0.0\n",
        "#lap_r=0.0\n",
        "#lap_i=0.0\n",
        "for k in range(kpml1,N-kpml1):\n",
        "    PE=PE+V[k]*(psi_rl[k]**2+psi_im[k]**2)\n",
        "#    Lap[k]=psi[k+1] - 2*psi[k] + psi[k-1]\n",
        "#    KE[k]=Lap[k]*psic[k]\n",
        "    lap_r=psi_rl[k+1]-2*psi_rl[k]+psi_rl[k-1]\n",
        "    lap_i=psi_im[k+1]-2*psi_im[k]+psi_im[k-1]\n",
        "    EC=EC-(psi_rl[k]*lap_r+psi_im[k]*lap_i)\n",
        "EC=EC*((hbar/dx)**2/(2*m))/eV2J    \n",
        "#kinet=KE.sum().real\n",
        "J2eV=1.0/eV2J\n",
        "#kinet=-J2eV*kinet*(hbar/dx)**2/(2*m)\n",
        "print(\"PE=\",PE,EC,PE+EC)"
      ],
      "execution_count": null,
      "outputs": [
        {
          "output_type": "stream",
          "text": [
            "('PE=', 0.097793765460054, 0.39734344965528545, 0.49513721511533948)\n"
          ],
          "name": "stdout"
        },
        {
          "output_type": "display_data",
          "data": {
            "image/png": "[encoded data removed]",
            "text/plain": [
              "<matplotlib.figure.Figure at 0x115f2dc10>"
            ]
          },
          "metadata": {
            "tags": []
          }
        }
      ]
    },
    {
      "cell_type": "markdown",
      "metadata": {
        "id": "juYZWqrSQvgg"
      },
      "source": [
        "# OK"
      ]
    },
    {
      "cell_type": "code",
      "metadata": {
        "id": "QjxL8g8mQvgh"
      },
      "source": [
        ""
      ],
      "execution_count": null,
      "outputs": []
    }
  ]
}