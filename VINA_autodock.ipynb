{
  "nbformat": 4,
  "nbformat_minor": 0,
  "metadata": {
    "colab": {
      "name": "VINA_autodock.ipynb",
      "provenance": [],
      "authorship_tag": "ABX9TyOPgqg2C2/QredSRehr1Afv",
      "include_colab_link": true
    },
    "kernelspec": {
      "name": "python3",
      "display_name": "Python 3"
    }
  },
  "cells": [
    {
      "cell_type": "markdown",
      "metadata": {
        "id": "view-in-github",
        "colab_type": "text"
      },
      "source": [
        "<a href=\"https://colab.research.google.com/github/napoles-uach/FDTD/blob/master/VINA_autodock.ipynb\" target=\"_parent\"><img src=\"https://colab.research.google.com/assets/colab-badge.svg\" alt=\"Open In Colab\"/></a>"
      ]
    },
    {
      "cell_type": "code",
      "metadata": {
        "id": "mvJWbOYAuR_i",
        "colab_type": "code",
        "colab": {}
      },
      "source": [
        "!wget http://vina.scripps.edu/download/autodock_vina_1_1_2_linux_x86.tgz"
      ],
      "execution_count": 0,
      "outputs": []
    },
    {
      "cell_type": "code",
      "metadata": {
        "id": "e1MFyVuBwUxn",
        "colab_type": "code",
        "colab": {}
      },
      "source": [
        "!tar xzvf autodock_vina_1_1_2_linux_x86.tgz"
      ],
      "execution_count": 0,
      "outputs": []
    },
    {
      "cell_type": "code",
      "metadata": {
        "id": "tW-sB9fNwn63",
        "colab_type": "code",
        "colab": {}
      },
      "source": [
        "alias vina /content/autodock_vina_1_1_2_linux_x86/bin/vina"
      ],
      "execution_count": 0,
      "outputs": []
    },
    {
      "cell_type": "code",
      "metadata": {
        "id": "OY1rnTSuxJki",
        "colab_type": "code",
        "colab": {}
      },
      "source": [
        "%vina --help"
      ],
      "execution_count": 0,
      "outputs": []
    },
    {
      "cell_type": "code",
      "metadata": {
        "id": "ds1eBX-Y0vqV",
        "colab_type": "code",
        "colab": {}
      },
      "source": [
        "!wget http://vina.scripps.edu/vina_tutorial.zip"
      ],
      "execution_count": 0,
      "outputs": []
    },
    {
      "cell_type": "code",
      "metadata": {
        "id": "GT4n_HyB4-jY",
        "colab_type": "code",
        "colab": {}
      },
      "source": [
        "!unzip vina_tutorial.zip "
      ],
      "execution_count": 0,
      "outputs": []
    },
    {
      "cell_type": "code",
      "metadata": {
        "id": "iIakBuGZ5Czu",
        "colab_type": "code",
        "colab": {}
      },
      "source": [
        "!wget https://static-bcrf.biochem.wisc.edu/tutorials/autodock/protein.pdbqt_.txt"
      ],
      "execution_count": 0,
      "outputs": []
    },
    {
      "cell_type": "code",
      "metadata": {
        "id": "qw76Qsa4-6sB",
        "colab_type": "code",
        "colab": {}
      },
      "source": [
        "!wget  https://static-bcrf.biochem.wisc.edu/tutorials/autodock/ligand.pdbqt_.txt"
      ],
      "execution_count": 0,
      "outputs": []
    },
    {
      "cell_type": "code",
      "metadata": {
        "id": "UIrbALGF_D1S",
        "colab_type": "code",
        "colab": {}
      },
      "source": [
        "%%bash\n",
        "mv protein.pdbqt_.txt ./vina_tutorial/protein.pdbqt\n",
        "\n",
        "mv ligand.pdbqt_.txt ./vina_tutorial/ligand.pdbqt"
      ],
      "execution_count": 0,
      "outputs": []
    },
    {
      "cell_type": "code",
      "metadata": {
        "id": "nfOaex-6B4u4",
        "colab_type": "code",
        "colab": {}
      },
      "source": [
        "%cd vina_tutorial"
      ],
      "execution_count": 0,
      "outputs": []
    },
    {
      "cell_type": "markdown",
      "metadata": {
        "id": "a4egtfKAyWk-",
        "colab_type": "text"
      },
      "source": [
        "\n",
        "\n",
        "---\n",
        "\n",
        "\n",
        "Py3Dmol\n",
        "\n",
        "\n",
        "---\n",
        "\n"
      ]
    },
    {
      "cell_type": "code",
      "metadata": {
        "id": "-I73yTKPOeXk",
        "colab_type": "code",
        "colab": {}
      },
      "source": [
        "pip -q install py3Dmol"
      ],
      "execution_count": 0,
      "outputs": []
    },
    {
      "cell_type": "code",
      "metadata": {
        "id": "y4CX3D8iF3TL",
        "colab_type": "code",
        "colab": {}
      },
      "source": [
        "import py3Dmol"
      ],
      "execution_count": 0,
      "outputs": []
    },
    {
      "cell_type": "code",
      "metadata": {
        "id": "Ijv2-vSFF8-1",
        "colab_type": "code",
        "colab": {}
      },
      "source": [
        "def vismol(file_name, width = 400, height = 400):\n",
        "  \"\"\"\n",
        "  Función básica para abrir archivo de molécula y presentarlo en pantalla con ayuda de py3Dmol.\n",
        "  file_name: nombre del archivo de la molecula, con extensión incluída.\n",
        "  width: ancho de la figura. Por default 400.\n",
        "  height: alto de la figura. Por default 400.\n",
        "  \"\"\"\n",
        "\n",
        "  mol = open(file_name, 'r').read()\n",
        "  \n",
        "  mol_view = py3Dmol.view(width, height)\n",
        "  \n",
        "  mol_view.addModel(mol, 'pdb')\n",
        "  mol_view.setStyle({'stick':{}})\n",
        "  mol_view.setBackgroundColor('0xeeeeee')\n",
        "  mol_view.zoomTo()\n",
        "  mol_view.show()"
      ],
      "execution_count": 0,
      "outputs": []
    },
    {
      "cell_type": "code",
      "metadata": {
        "id": "TMi5NVbkGBq5",
        "colab_type": "code",
        "colab": {}
      },
      "source": [
        "vismol('protein.pdb')"
      ],
      "execution_count": 0,
      "outputs": []
    },
    {
      "cell_type": "code",
      "metadata": {
        "id": "KWFiZJH2sPjt",
        "colab_type": "code",
        "colab": {}
      },
      "source": [
        "def complxvis(protein_name,ligand_name):\n",
        "  mol1 = open(protein_name, 'r').read()\n",
        "  mol2 = open(ligand_name, 'r').read()\n",
        "  view = py3Dmol.view()\n",
        "  view.addModel(mol1,'pdb')\n",
        "  view.setStyle({'cartoon': {'color':'spectrum'}})\n",
        "  view.addModel(mol2,'pdb')\n",
        "  view.setStyle({'model':1},{'stick':{}})\n",
        "  view.setBackgroundColor('0xeeeeee')\n",
        "  view.zoomTo()\n",
        "  view.show()"
      ],
      "execution_count": 0,
      "outputs": []
    },
    {
      "cell_type": "code",
      "metadata": {
        "id": "_U8BPSkGtyni",
        "colab_type": "code",
        "colab": {}
      },
      "source": [
        "complxvis('protein.pdb','ligand.pdb')"
      ],
      "execution_count": 0,
      "outputs": []
    },
    {
      "cell_type": "code",
      "metadata": {
        "id": "8W3_xTW5_U9S",
        "colab_type": "code",
        "colab": {}
      },
      "source": [
        "%%bash\n",
        "cat > conf.txt <<EOF\n",
        "receptor = protein.pdbqt\n",
        "ligand = ligand.pdbqt\n",
        "\n",
        "out = all.pdbqt\n",
        "\n",
        "center_x = 11\n",
        "center_y = 90.5\n",
        "center_z = 57.5\n",
        "\n",
        "size_x = 22\n",
        "size_y = 24\n",
        "size_z = 28\n",
        "EOF"
      ],
      "execution_count": 0,
      "outputs": []
    },
    {
      "cell_type": "code",
      "metadata": {
        "id": "LAZDgUL4FLBs",
        "colab_type": "code",
        "colab": {}
      },
      "source": [
        "ls"
      ],
      "execution_count": 0,
      "outputs": []
    },
    {
      "cell_type": "code",
      "metadata": {
        "id": "WQ8kjv-uFLiH",
        "colab_type": "code",
        "colab": {}
      },
      "source": [
        "%vina --config conf.txt --log log.txt"
      ],
      "execution_count": 0,
      "outputs": []
    },
    {
      "cell_type": "code",
      "metadata": {
        "id": "zJi7FcLQNBhO",
        "colab_type": "code",
        "colab": {}
      },
      "source": [
        "ls -ltrh"
      ],
      "execution_count": 0,
      "outputs": []
    },
    {
      "cell_type": "code",
      "metadata": {
        "id": "9XWe1ueeUwjG",
        "colab_type": "code",
        "colab": {}
      },
      "source": [
        "!apt-get -qq install -y openbabel\n"
      ],
      "execution_count": 0,
      "outputs": []
    },
    {
      "cell_type": "code",
      "metadata": {
        "id": "oQkbyzprWv3_",
        "colab_type": "code",
        "colab": {}
      },
      "source": [
        "!babel -ipdbqt 'protein.pdbqt' -opdb 'protein2.pdb'"
      ],
      "execution_count": 0,
      "outputs": []
    },
    {
      "cell_type": "code",
      "metadata": {
        "id": "FcVpd_0OXRXH",
        "colab_type": "code",
        "colab": {}
      },
      "source": [
        "!babel -ipdbqt 'all.pdbqt' -opdb 'all.pdb'"
      ],
      "execution_count": 0,
      "outputs": []
    },
    {
      "cell_type": "code",
      "metadata": {
        "id": "bFAZSI__XoBM",
        "colab_type": "code",
        "colab": {}
      },
      "source": [
        "complxvis('protein2.pdb','all.pdb')"
      ],
      "execution_count": 0,
      "outputs": []
    }
  ]
}