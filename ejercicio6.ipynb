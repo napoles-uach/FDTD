{
  "nbformat": 4,
  "nbformat_minor": 0,
  "metadata": {
    "colab": {
      "name": "ejercicio6.ipynb",
      "provenance": [],
      "collapsed_sections": [],
      "authorship_tag": "ABX9TyMvT5AEIchKkDECG6mdx20X",
      "include_colab_link": true
    },
    "kernelspec": {
      "name": "python3",
      "display_name": "Python 3"
    }
  },
  "cells": [
    {
      "cell_type": "markdown",
      "metadata": {
        "id": "view-in-github",
        "colab_type": "text"
      },
      "source": [
        "<a href=\"https://colab.research.google.com/github/napoles-uach/FDTD/blob/master/ejercicio6.ipynb\" target=\"_parent\"><img src=\"https://colab.research.google.com/assets/colab-badge.svg\" alt=\"Open In Colab\"/></a>"
      ]
    },
    {
      "cell_type": "code",
      "metadata": {
        "id": "8zEk3rxBZgrg",
        "colab_type": "code",
        "colab": {}
      },
      "source": [
        "import numpy as np\n",
        "import matplotlib.pyplot as plt\n",
        "\n",
        "from matplotlib import animation, rc\n",
        "from IPython.display import HTML"
      ],
      "execution_count": 0,
      "outputs": []
    },
    {
      "cell_type": "code",
      "metadata": {
        "id": "38v_2FP5a5xn",
        "colab_type": "code",
        "cellView": "form",
        "colab": {}
      },
      "source": [
        "#@title Código Subplots\n",
        "def plots():\n",
        "  fig, ax = plt.subplots()\n",
        "  plt.close()\n",
        "  ax.set_xlim(( 0, 10))\n",
        "  ax.set_ylim((-2, 2))\n",
        "  line, = ax.plot([], [], lw=2)\n",
        "  return(fig,line)\n",
        "\n",
        "fig,line=plots()"
      ],
      "execution_count": 0,
      "outputs": []
    },
    {
      "cell_type": "code",
      "metadata": {
        "id": "mVnPerISa7mk",
        "colab_type": "code",
        "cellView": "form",
        "colab": {}
      },
      "source": [
        "#@title initialization function: plot the background of each frame\n",
        "def init():\n",
        "    line.set_data([], [])\n",
        "    return (line,)"
      ],
      "execution_count": 0,
      "outputs": []
    },
    {
      "cell_type": "code",
      "metadata": {
        "id": "8KOkHB7YbL7m",
        "colab_type": "code",
        "colab": {}
      },
      "source": [
        "def wave(i):\n",
        "    x = np.linspace(0, 50, 1000)\n",
        "    k=2*np.pi/10.0\n",
        "    w=2*np.pi/20.0\n",
        "    y = np.sin(k* (x)-w*i)\n",
        "    return (x,y)"
      ],
      "execution_count": 0,
      "outputs": []
    },
    {
      "cell_type": "code",
      "metadata": {
        "id": "kFCcriwclG1W",
        "colab_type": "code",
        "colab": {}
      },
      "source": [
        "def wave(i,n,L):\n",
        "    x = np.linspace(0, 10, 100)\n",
        "    k=n*np.pi/L\n",
        "    w=2*np.pi/20.0\n",
        "    y = np.sin(k* (x))*np.cos(w*i)\n",
        "    return (x,y)"
      ],
      "execution_count": 0,
      "outputs": []
    },
    {
      "cell_type": "code",
      "metadata": {
        "id": "SDZW4z_-o2j6",
        "colab_type": "code",
        "colab": {}
      },
      "source": [
        "n=1\n",
        "L=10"
      ],
      "execution_count": 0,
      "outputs": []
    },
    {
      "cell_type": "code",
      "metadata": {
        "id": "NB5dEYStbUcx",
        "colab_type": "code",
        "colab": {}
      },
      "source": [
        "def animate(i):\n",
        "    x,y = wave(i,n,L)\n",
        "    line.set_data(x, y)\n",
        "    return (line,)"
      ],
      "execution_count": 0,
      "outputs": []
    },
    {
      "cell_type": "code",
      "metadata": {
        "id": "DxXD7vOabZq2",
        "colab_type": "code",
        "cellView": "form",
        "colab": {}
      },
      "source": [
        "#@title El código aquí hace que funcione en colab\n",
        "anim = animation.FuncAnimation(fig, animate, init_func=init,\n",
        "                             frames=100, interval=50, blit=True)\n",
        "\n",
        "rc('animation', html='jshtml')\n",
        "anim"
      ],
      "execution_count": 0,
      "outputs": []
    }
  ]
}